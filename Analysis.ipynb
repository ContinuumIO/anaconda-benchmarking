{
 "cells": [
  {
   "cell_type": "code",
   "execution_count": null,
   "metadata": {
    "collapsed": false
   },
   "outputs": [],
   "source": [
    "from collections import OrderedDict, defaultdict\n",
    "import pandas as pd\n",
    "import numpy as np\n",
    "import json\n",
    "import os\n",
    "from glob import glob\n",
    "import matplotlib.pyplot as plt\n",
    "%matplotlib qt5"
   ]
  },
  {
   "cell_type": "markdown",
   "metadata": {},
   "source": [
    "## Python benchmark suite\n",
    "https://pypi.python.org/pypi/performance"
   ]
  },
  {
   "cell_type": "code",
   "execution_count": null,
   "metadata": {
    "collapsed": false
   },
   "outputs": [],
   "source": [
    "import parse_test\n",
    "\n",
    "\n",
    "tests_dict = {}\n",
    "for f in parse_test.load_files('python_run'):\n",
    "    parse_test.get_test_times(tests_dict, f)\n",
    "    \n",
    "tuples = [(k1, k2, v) for k1, v1 in tests_dict.items() for k2, v2 in v1.items() for v in v2]\n",
    "df = pd.DataFrame(tuples)\n",
    "df.columns = ['test name', 'distribution', 'value']\n",
    "df.set_index(['test name', 'distribution'])"
   ]
  },
  {
   "cell_type": "code",
   "execution_count": null,
   "metadata": {
    "collapsed": false
   },
   "outputs": [],
   "source": [
    "group = df.groupby(('test name', 'distribution')).min().reset_index()\n",
    "test_names = sorted(list(set(group['test name'])))\n",
    "min_pip_times = pd.Series(data=group[group.distribution == 'pip']['value'].values, index=test_names)\n"
   ]
  },
  {
   "cell_type": "code",
   "execution_count": null,
   "metadata": {
    "collapsed": false
   },
   "outputs": [],
   "source": [
    "df2 = pd.DataFrame({'Anaconda >=5': group[group.distribution == 'anaconda']['value'].values,\n",
    "                    'Anaconda <5; Intel': group[group.distribution == 'intel']['value'].values\n",
    "                   }, index=test_names)\n",
    "df2 = (1 / df2).mul(min_pip_times, axis=0)\n",
    "\n"
   ]
  },
  {
   "cell_type": "code",
   "execution_count": null,
   "metadata": {
    "collapsed": false
   },
   "outputs": [],
   "source": [
    "plot = df2.plot.hist(alpha=0.5, bins=30, colormap='brg')\n",
    "plt.xlabel(\"Speed ratio, (t_ubuntu / t_distro)\")\n",
    "plt.ylabel(\"\")\n",
    "plot.yaxis.set_major_locator(plt.NullLocator())"
   ]
  },
  {
   "cell_type": "markdown",
   "metadata": {},
   "source": [
    "## Black-Scholes benchmark\n",
    "https://github.com/IntelPython/BlackScholes_bench"
   ]
  },
  {
   "cell_type": "code",
   "execution_count": null,
   "metadata": {
    "collapsed": false
   },
   "outputs": [],
   "source": [
    "import re\n",
    "line_re = re.compile(r'.*Size:\\s(\\d+)\\sMOPS:\\s(\\d+\\.\\d+)')\n",
    "files = glob(\"bs_run_serial/*.txt\")\n",
    "df = None\n",
    "for fn in files:\n",
    "    key = fn.split('/')[1].rstrip('.txt')\n",
    "    with open(fn) as f:\n",
    "        data = []\n",
    "        for line in f.readlines():\n",
    "            match = line_re.search(line)\n",
    "            if match:\n",
    "                data.append((int(match.group(1)), float(match.group(2))))   \n",
    "    if df is None:    \n",
    "        df = pd.DataFrame(data, columns=('Size', key))\n",
    "    else:\n",
    "        df[key] = [d[1] for d in data]\n",
    "df.set_index('Size')"
   ]
  },
  {
   "cell_type": "code",
   "execution_count": null,
   "metadata": {
    "collapsed": false
   },
   "outputs": [],
   "source": [
    "maxima = {key: df[[col for col in df.columns if key in col]].max(axis=1) for key in ('intel', 'anaconda', 'pip')}\n",
    "maxima['Size'] = df.Size.values\n",
    "df = pd.DataFrame(maxima)\n",
    "df['Size'] = df['Size'] // 1024\n",
    "df.set_index('Size')"
   ]
  },
  {
   "cell_type": "code",
   "execution_count": null,
   "metadata": {
    "collapsed": false
   },
   "outputs": [],
   "source": [
    "df[['anaconda', 'intel']] = df[['anaconda', 'intel']].div(df.pip, axis=0)"
   ]
  },
  {
   "cell_type": "code",
   "execution_count": null,
   "metadata": {
    "collapsed": false
   },
   "outputs": [],
   "source": [
    "df2 = df[['Size', 'intel', 'anaconda']]\n",
    "df2 = df2.set_index('Size')"
   ]
  },
  {
   "cell_type": "code",
   "execution_count": null,
   "metadata": {
    "collapsed": false
   },
   "outputs": [],
   "source": [
    "ax = df2.plot(colormap='brg', logx=True)\n",
    "plt.xlabel('Size (thousands of elements)')\n",
    "plt.ylabel('MOPS_distro / MOPS_pip')\n",
    "plt.title('Black-Scholes (single-threaded)')"
   ]
  },
  {
   "cell_type": "markdown",
   "metadata": {
    "collapsed": true
   },
   "source": [
    "## BLAS benchmark suite\n",
    "https://github.com/continuumio/mkl-optimizations-benchmarks"
   ]
  },
  {
   "cell_type": "code",
   "execution_count": null,
   "metadata": {
    "collapsed": false
   },
   "outputs": [],
   "source": [
    "files = glob('mkl_serial/mkl_run_*/*.csv')\n",
    "sizes = {'cholesky': [64,   90,  128,  181,  256,  362,  512,  724, 1024, 1448, 2048,\n",
    "       2896, 4096, 5792, 8192],\n",
    "        'dgemm': [64,   90,  128,  181,  256,  362,  512,  724, 1024, 1448, 2048,\n",
    "       2896, 4096, 5792, 8192],\n",
    "         'svd_over': [64,   90,  128,  181,  256,  362,  512,  724, 1024, 1448, 2048],\n",
    "         'svd_under': [64,   90,  128,  181,  256,  362,  512,  724, 1024, 1448, 2048],\n",
    "        'numexpr': [4096.        ,   5792.61875148,   8192.        ,  11585.23750296,\n",
    "        16384.        ,  23170.47500592,  32768.        ,  46340.95001184,\n",
    "        65536.        ,  92681.90002368, 131072.        , 185363.80004737,\n",
    "       262144.],\n",
    "        'fft': [16,   32,   64,  128,  256,  512, 1024, 2048, 4096, 8192]}\n",
    "\n",
    "# results = {bmark: {distro: {size: 0}}}\n",
    "results = defaultdict(OrderedDict)\n",
    "\n",
    "for f in files:\n",
    "    distro, benchmark = os.path.splitext(os.path.basename(f))[0].split('-')\n",
    "    benchmark = benchmark.lower()\n",
    "    folder_idx = os.path.dirname(f).rsplit('_', 1)[-1]\n",
    "    d = pd.read_csv(f, header=None, names=['size', 'GFLOPS({})'.format(folder_idx)]).set_index('size')\n",
    "    if distro not in results[benchmark]:\n",
    "        results[benchmark][distro] = d\n",
    "    else:\n",
    "        results[benchmark][distro] = results[benchmark][distro].join(d)\n",
    "        \n",
    "for bmark, distros in results.items():\n",
    "    for distro, values in distros.items():\n",
    "        results[bmark][distro] = values.max(axis=1)\n",
    "    values = OrderedDict(intel=results[bmark]['intel3'], anaconda=results[bmark]['anaconda3'], pip=results[bmark]['pip3'])\n",
    "    results[bmark] = pd.DataFrame(index=results[bmark]['anaconda3'].index, data=values)\n",
    "    results[bmark]['anaconda'] = results[bmark]['anaconda'] / results[bmark]['pip']\n",
    "    results[bmark]['intel'] = results[bmark]['intel'] / results[bmark]['pip']\n",
    "    del results[bmark]['pip']"
   ]
  },
  {
   "cell_type": "code",
   "execution_count": null,
   "metadata": {
    "collapsed": false
   },
   "outputs": [],
   "source": [
    "results['dgemm'].plot(colormap='brg', logx=True)\n",
    "plt.xlabel('Array dimension size')\n",
    "plt.ylabel('GFLOPS_distro / GFLOPS_pip')\n",
    "plt.title(\"DGEMM, parallel\")"
   ]
  },
  {
   "cell_type": "code",
   "execution_count": null,
   "metadata": {
    "collapsed": false
   },
   "outputs": [],
   "source": [
    "results['cholesky'].plot(colormap='brg', logx=True)\n",
    "plt.xlabel('Array dimension size')\n",
    "plt.ylabel('GFLOPS_distro / GFLOPS_pip')\n",
    "plt.title(\"Cholesky, parallel\")"
   ]
  },
  {
   "cell_type": "code",
   "execution_count": null,
   "metadata": {
    "collapsed": false
   },
   "outputs": [],
   "source": [
    "results['numexpr'].plot(colormap='brg', logx=True)\n",
    "plt.xlabel('Array size')\n",
    "plt.ylabel('GFLOPS_distro / GFLOPS_pip')\n",
    "plt.title(\"Numexpr, parallel\")"
   ]
  },
  {
   "cell_type": "code",
   "execution_count": null,
   "metadata": {
    "collapsed": false
   },
   "outputs": [],
   "source": [
    "results['fft'].plot(colormap='brg', logx=True)\n",
    "plt.xlabel('Array size')\n",
    "plt.ylabel('GFLOPS_distro / GFLOPS_pip')\n",
    "plt.title(\"FFT, parallel\")"
   ]
  },
  {
   "cell_type": "code",
   "execution_count": null,
   "metadata": {
    "collapsed": false
   },
   "outputs": [],
   "source": [
    "results['svd_over'].plot(colormap='brg', logx=True)\n",
    "plt.xlabel('Array dimension size')\n",
    "plt.ylabel('GFLOPS_distro / GFLOPS_pip')\n",
    "plt.title(\"SVD (overdetermined), single-threaded\")"
   ]
  },
  {
   "cell_type": "code",
   "execution_count": null,
   "metadata": {
    "collapsed": false
   },
   "outputs": [],
   "source": [
    "results['svd_under'].plot(colormap='brg', logx=True)\n",
    "plt.xlabel('Array dimension size')\n",
    "plt.ylabel('GFLOPS_distro / GFLOPS_pip')\n",
    "plt.title(\"SVD (underdetermined), single-threaded\")"
   ]
  },
  {
   "cell_type": "code",
   "execution_count": null,
   "metadata": {
    "collapsed": true
   },
   "outputs": [],
   "source": []
  }
 ],
 "metadata": {
  "kernelspec": {
   "display_name": "Python 3",
   "language": "python",
   "name": "python3"
  },
  "language_info": {
   "codemirror_mode": {
    "name": "ipython",
    "version": 3
   },
   "file_extension": ".py",
   "mimetype": "text/x-python",
   "name": "python",
   "nbconvert_exporter": "python",
   "pygments_lexer": "ipython3",
   "version": "3.6.3"
  }
 },
 "nbformat": 4,
 "nbformat_minor": 2
}
